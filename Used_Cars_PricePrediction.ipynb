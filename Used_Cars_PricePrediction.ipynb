{
 "cells": [
  {
   "cell_type": "code",
   "execution_count": 1,
   "metadata": {},
   "outputs": [],
   "source": [
    "import pandas as pd \n",
    "import numpy as np                     # For mathematical calculations \n",
    "import seaborn as sns                  # For data visualization \n",
    "import matplotlib.pyplot as plt        # For plotting graphs \n",
    "%matplotlib inline \n",
    "import warnings                        # To ignore any warnings warnings.filterwarnings(\"ignore\")\n",
    "import pandas_profiling as pp\n",
    "from sklearn.preprocessing import StandardScaler\n",
    "import datetime as dt\n",
    "from sklearn import metrics, preprocessing, model_selection\n",
    "import matplotlib.pyplot as plt\n",
    "import seaborn as sns"
   ]
  },
  {
   "cell_type": "code",
   "execution_count": 2,
   "metadata": {},
   "outputs": [
    {
     "name": "stdout",
     "output_type": "stream",
     "text": [
      "6019\n",
      "1234\n"
     ]
    }
   ],
   "source": [
    "train=pd.read_csv(\"Data_Train.csv\")\n",
    "test=pd.read_csv(\"Data_Test.csv\")\n",
    "print(len(train)),\n",
    "print(len(test))"
   ]
  },
  {
   "cell_type": "code",
   "execution_count": 3,
   "metadata": {},
   "outputs": [
    {
     "name": "stdout",
     "output_type": "stream",
     "text": [
      "7253\n"
     ]
    },
    {
     "data": {
      "text/html": [
       "<div>\n",
       "<table border=\"1\" class=\"dataframe\">\n",
       "  <thead>\n",
       "    <tr style=\"text-align: right;\">\n",
       "      <th></th>\n",
       "      <th>Engine</th>\n",
       "      <th>Fuel_Type</th>\n",
       "      <th>Kilometers_Driven</th>\n",
       "      <th>Location</th>\n",
       "      <th>Mileage</th>\n",
       "      <th>Name</th>\n",
       "      <th>New_Price</th>\n",
       "      <th>Owner_Type</th>\n",
       "      <th>Power</th>\n",
       "      <th>Price</th>\n",
       "      <th>Seats</th>\n",
       "      <th>Transmission</th>\n",
       "      <th>Year</th>\n",
       "    </tr>\n",
       "  </thead>\n",
       "  <tbody>\n",
       "    <tr>\n",
       "      <th>0</th>\n",
       "      <td>998 CC</td>\n",
       "      <td>CNG</td>\n",
       "      <td>72000</td>\n",
       "      <td>Mumbai</td>\n",
       "      <td>26.6 km/kg</td>\n",
       "      <td>Maruti Wagon R LXI CNG</td>\n",
       "      <td>NaN</td>\n",
       "      <td>First</td>\n",
       "      <td>58.16 bhp</td>\n",
       "      <td>1.75</td>\n",
       "      <td>5.0</td>\n",
       "      <td>Manual</td>\n",
       "      <td>2010</td>\n",
       "    </tr>\n",
       "    <tr>\n",
       "      <th>1</th>\n",
       "      <td>1582 CC</td>\n",
       "      <td>Diesel</td>\n",
       "      <td>41000</td>\n",
       "      <td>Pune</td>\n",
       "      <td>19.67 kmpl</td>\n",
       "      <td>Hyundai Creta 1.6 CRDi SX Option</td>\n",
       "      <td>NaN</td>\n",
       "      <td>First</td>\n",
       "      <td>126.2 bhp</td>\n",
       "      <td>12.50</td>\n",
       "      <td>5.0</td>\n",
       "      <td>Manual</td>\n",
       "      <td>2015</td>\n",
       "    </tr>\n",
       "    <tr>\n",
       "      <th>2</th>\n",
       "      <td>1199 CC</td>\n",
       "      <td>Petrol</td>\n",
       "      <td>46000</td>\n",
       "      <td>Chennai</td>\n",
       "      <td>18.2 kmpl</td>\n",
       "      <td>Honda Jazz V</td>\n",
       "      <td>8.61 Lakh</td>\n",
       "      <td>First</td>\n",
       "      <td>88.7 bhp</td>\n",
       "      <td>4.50</td>\n",
       "      <td>5.0</td>\n",
       "      <td>Manual</td>\n",
       "      <td>2011</td>\n",
       "    </tr>\n",
       "    <tr>\n",
       "      <th>3</th>\n",
       "      <td>1248 CC</td>\n",
       "      <td>Diesel</td>\n",
       "      <td>87000</td>\n",
       "      <td>Chennai</td>\n",
       "      <td>20.77 kmpl</td>\n",
       "      <td>Maruti Ertiga VDI</td>\n",
       "      <td>NaN</td>\n",
       "      <td>First</td>\n",
       "      <td>88.76 bhp</td>\n",
       "      <td>6.00</td>\n",
       "      <td>7.0</td>\n",
       "      <td>Manual</td>\n",
       "      <td>2012</td>\n",
       "    </tr>\n",
       "    <tr>\n",
       "      <th>4</th>\n",
       "      <td>1968 CC</td>\n",
       "      <td>Diesel</td>\n",
       "      <td>40670</td>\n",
       "      <td>Coimbatore</td>\n",
       "      <td>15.2 kmpl</td>\n",
       "      <td>Audi A4 New 2.0 TDI Multitronic</td>\n",
       "      <td>NaN</td>\n",
       "      <td>Second</td>\n",
       "      <td>140.8 bhp</td>\n",
       "      <td>17.74</td>\n",
       "      <td>5.0</td>\n",
       "      <td>Automatic</td>\n",
       "      <td>2013</td>\n",
       "    </tr>\n",
       "  </tbody>\n",
       "</table>\n",
       "</div>"
      ],
      "text/plain": [
       "    Engine Fuel_Type  Kilometers_Driven    Location     Mileage  \\\n",
       "0   998 CC       CNG              72000      Mumbai  26.6 km/kg   \n",
       "1  1582 CC    Diesel              41000        Pune  19.67 kmpl   \n",
       "2  1199 CC    Petrol              46000     Chennai   18.2 kmpl   \n",
       "3  1248 CC    Diesel              87000     Chennai  20.77 kmpl   \n",
       "4  1968 CC    Diesel              40670  Coimbatore   15.2 kmpl   \n",
       "\n",
       "                               Name  New_Price Owner_Type      Power  Price  \\\n",
       "0            Maruti Wagon R LXI CNG        NaN      First  58.16 bhp   1.75   \n",
       "1  Hyundai Creta 1.6 CRDi SX Option        NaN      First  126.2 bhp  12.50   \n",
       "2                      Honda Jazz V  8.61 Lakh      First   88.7 bhp   4.50   \n",
       "3                 Maruti Ertiga VDI        NaN      First  88.76 bhp   6.00   \n",
       "4   Audi A4 New 2.0 TDI Multitronic        NaN     Second  140.8 bhp  17.74   \n",
       "\n",
       "   Seats Transmission  Year  \n",
       "0    5.0       Manual  2010  \n",
       "1    5.0       Manual  2015  \n",
       "2    5.0       Manual  2011  \n",
       "3    7.0       Manual  2012  \n",
       "4    5.0    Automatic  2013  "
      ]
     },
     "execution_count": 3,
     "metadata": {},
     "output_type": "execute_result"
    }
   ],
   "source": [
    "train_dataset = pd.concat([train,test], axis =0,ignore_index=True)\n",
    "print(len(train_dataset))\n",
    "train_dataset.head()"
   ]
  },
  {
   "cell_type": "code",
   "execution_count": 4,
   "metadata": {},
   "outputs": [
    {
     "data": {
      "text/html": [
       "<div>\n",
       "<table border=\"1\" class=\"dataframe\">\n",
       "  <thead>\n",
       "    <tr style=\"text-align: right;\">\n",
       "      <th></th>\n",
       "      <th>Engine</th>\n",
       "      <th>Fuel_Type</th>\n",
       "      <th>Kilometers_Driven</th>\n",
       "      <th>Location</th>\n",
       "      <th>Mileage</th>\n",
       "      <th>Name</th>\n",
       "      <th>New_Price</th>\n",
       "      <th>Owner_Type</th>\n",
       "      <th>Power</th>\n",
       "      <th>Price</th>\n",
       "      <th>Seats</th>\n",
       "      <th>Transmission</th>\n",
       "      <th>Year</th>\n",
       "    </tr>\n",
       "  </thead>\n",
       "  <tbody>\n",
       "    <tr>\n",
       "      <th>0</th>\n",
       "      <td>998 CC</td>\n",
       "      <td>CNG</td>\n",
       "      <td>11.184421</td>\n",
       "      <td>Mumbai</td>\n",
       "      <td>26.6 km/kg</td>\n",
       "      <td>Maruti Wagon R LXI CNG</td>\n",
       "      <td>NaN</td>\n",
       "      <td>First</td>\n",
       "      <td>58.16 bhp</td>\n",
       "      <td>1.75</td>\n",
       "      <td>5.0</td>\n",
       "      <td>Manual</td>\n",
       "      <td>2010</td>\n",
       "    </tr>\n",
       "    <tr>\n",
       "      <th>1</th>\n",
       "      <td>1582 CC</td>\n",
       "      <td>Diesel</td>\n",
       "      <td>10.621327</td>\n",
       "      <td>Pune</td>\n",
       "      <td>19.67 kmpl</td>\n",
       "      <td>Hyundai Creta 1.6 CRDi SX Option</td>\n",
       "      <td>NaN</td>\n",
       "      <td>First</td>\n",
       "      <td>126.2 bhp</td>\n",
       "      <td>12.50</td>\n",
       "      <td>5.0</td>\n",
       "      <td>Manual</td>\n",
       "      <td>2015</td>\n",
       "    </tr>\n",
       "    <tr>\n",
       "      <th>2</th>\n",
       "      <td>1199 CC</td>\n",
       "      <td>Petrol</td>\n",
       "      <td>10.736397</td>\n",
       "      <td>Chennai</td>\n",
       "      <td>18.2 kmpl</td>\n",
       "      <td>Honda Jazz V</td>\n",
       "      <td>8.61 Lakh</td>\n",
       "      <td>First</td>\n",
       "      <td>88.7 bhp</td>\n",
       "      <td>4.50</td>\n",
       "      <td>5.0</td>\n",
       "      <td>Manual</td>\n",
       "      <td>2011</td>\n",
       "    </tr>\n",
       "    <tr>\n",
       "      <th>3</th>\n",
       "      <td>1248 CC</td>\n",
       "      <td>Diesel</td>\n",
       "      <td>11.373663</td>\n",
       "      <td>Chennai</td>\n",
       "      <td>20.77 kmpl</td>\n",
       "      <td>Maruti Ertiga VDI</td>\n",
       "      <td>NaN</td>\n",
       "      <td>First</td>\n",
       "      <td>88.76 bhp</td>\n",
       "      <td>6.00</td>\n",
       "      <td>7.0</td>\n",
       "      <td>Manual</td>\n",
       "      <td>2012</td>\n",
       "    </tr>\n",
       "    <tr>\n",
       "      <th>4</th>\n",
       "      <td>1968 CC</td>\n",
       "      <td>Diesel</td>\n",
       "      <td>10.613246</td>\n",
       "      <td>Coimbatore</td>\n",
       "      <td>15.2 kmpl</td>\n",
       "      <td>Audi A4 New 2.0 TDI Multitronic</td>\n",
       "      <td>NaN</td>\n",
       "      <td>Second</td>\n",
       "      <td>140.8 bhp</td>\n",
       "      <td>17.74</td>\n",
       "      <td>5.0</td>\n",
       "      <td>Automatic</td>\n",
       "      <td>2013</td>\n",
       "    </tr>\n",
       "  </tbody>\n",
       "</table>\n",
       "</div>"
      ],
      "text/plain": [
       "    Engine Fuel_Type  Kilometers_Driven    Location     Mileage  \\\n",
       "0   998 CC       CNG          11.184421      Mumbai  26.6 km/kg   \n",
       "1  1582 CC    Diesel          10.621327        Pune  19.67 kmpl   \n",
       "2  1199 CC    Petrol          10.736397     Chennai   18.2 kmpl   \n",
       "3  1248 CC    Diesel          11.373663     Chennai  20.77 kmpl   \n",
       "4  1968 CC    Diesel          10.613246  Coimbatore   15.2 kmpl   \n",
       "\n",
       "                               Name  New_Price Owner_Type      Power  Price  \\\n",
       "0            Maruti Wagon R LXI CNG        NaN      First  58.16 bhp   1.75   \n",
       "1  Hyundai Creta 1.6 CRDi SX Option        NaN      First  126.2 bhp  12.50   \n",
       "2                      Honda Jazz V  8.61 Lakh      First   88.7 bhp   4.50   \n",
       "3                 Maruti Ertiga VDI        NaN      First  88.76 bhp   6.00   \n",
       "4   Audi A4 New 2.0 TDI Multitronic        NaN     Second  140.8 bhp  17.74   \n",
       "\n",
       "   Seats Transmission  Year  \n",
       "0    5.0       Manual  2010  \n",
       "1    5.0       Manual  2015  \n",
       "2    5.0       Manual  2011  \n",
       "3    7.0       Manual  2012  \n",
       "4    5.0    Automatic  2013  "
      ]
     },
     "execution_count": 4,
     "metadata": {},
     "output_type": "execute_result"
    }
   ],
   "source": [
    "train_dataset['Kilometers_Driven']=np.log(train_dataset.Kilometers_Driven)\n",
    "train_dataset.head()"
   ]
  },
  {
   "cell_type": "code",
   "execution_count": 5,
   "metadata": {},
   "outputs": [
    {
     "data": {
      "text/plain": [
       "(Engine                object\n",
       " Fuel_Type             object\n",
       " Kilometers_Driven    float64\n",
       " Location              object\n",
       " Mileage               object\n",
       " Name                  object\n",
       " New_Price             object\n",
       " Owner_Type            object\n",
       " Power                 object\n",
       " Price                float64\n",
       " Seats                float64\n",
       " Transmission          object\n",
       " Year                   int64\n",
       " dtype: object, (7253, 13))"
      ]
     },
     "execution_count": 5,
     "metadata": {},
     "output_type": "execute_result"
    }
   ],
   "source": [
    "train_dataset.dtypes,train_dataset.shape"
   ]
  },
  {
   "cell_type": "code",
   "execution_count": 6,
   "metadata": {},
   "outputs": [],
   "source": [
    "train_dataset['brand'] = train_dataset['Name'].apply(lambda x: x.split()[0])\n",
    "#test['brand'] = test['Name'].apply(lambda x: x.split()[0])"
   ]
  },
  {
   "cell_type": "code",
   "execution_count": 7,
   "metadata": {},
   "outputs": [],
   "source": [
    "train_dataset.drop(['New_Price'],inplace=True,axis=1)"
   ]
  },
  {
   "cell_type": "code",
   "execution_count": 8,
   "metadata": {},
   "outputs": [
    {
     "data": {
      "text/plain": [
       "Engine                 46\n",
       "Fuel_Type               0\n",
       "Kilometers_Driven       0\n",
       "Location                0\n",
       "Mileage                 2\n",
       "Name                    0\n",
       "Owner_Type              0\n",
       "Power                  46\n",
       "Price                1234\n",
       "Seats                  53\n",
       "Transmission            0\n",
       "Year                    0\n",
       "brand                   0\n",
       "dtype: int64"
      ]
     },
     "execution_count": 8,
     "metadata": {},
     "output_type": "execute_result"
    }
   ],
   "source": [
    "train_dataset.apply(lambda x: sum(x.isnull()))"
   ]
  },
  {
   "cell_type": "code",
   "execution_count": 9,
   "metadata": {
    "collapsed": true
   },
   "outputs": [],
   "source": [
    "categorical_variables=(['Seats','Engine','Power'])"
   ]
  },
  {
   "cell_type": "code",
   "execution_count": 10,
   "metadata": {},
   "outputs": [],
   "source": [
    "for object in categorical_variables:\n",
    "    train[object].fillna(train[object].mode()[0], inplace=True)\n",
    "    test[object].fillna(test[object].mode()[0], inplace=True)"
   ]
  },
  {
   "cell_type": "code",
   "execution_count": 11,
   "metadata": {
    "collapsed": true
   },
   "outputs": [],
   "source": [
    "variables = ['Name', 'Location', 'Year', 'Fuel_Type', 'Transmission', 'Owner_Type',\n",
    "       'Mileage', 'Engine', 'Power', 'Seats','brand']"
   ]
  },
  {
   "cell_type": "code",
   "execution_count": 12,
   "metadata": {},
   "outputs": [
    {
     "name": "stdout",
     "output_type": "stream",
     "text": [
      "Name\n",
      "Location\n",
      "Year\n",
      "Fuel_Type\n",
      "Transmission\n",
      "Owner_Type\n",
      "Mileage\n",
      "Engine\n",
      "Power\n",
      "Seats\n",
      "brand\n"
     ]
    }
   ],
   "source": [
    "for col in variables:\n",
    "    print(col)\n",
    "    lbl = preprocessing.LabelEncoder()\n",
    "    lbl.fit(list(train_dataset[col].values.astype('str')))\n",
    "    train_dataset[col] = lbl.transform(list(train_dataset[col].values.astype('str')))"
   ]
  },
  {
   "cell_type": "code",
   "execution_count": 29,
   "metadata": {},
   "outputs": [
    {
     "data": {
      "text/plain": [
       "array([  1.75,  12.5 ,   4.5 , ...,    nan,    nan,    nan])"
      ]
     },
     "execution_count": 29,
     "metadata": {},
     "output_type": "execute_result"
    }
   ],
   "source": [
    "train_y = train_dataset[\"Price\"].values\n",
    "train_y"
   ]
  },
  {
   "cell_type": "code",
   "execution_count": 30,
   "metadata": {},
   "outputs": [
    {
     "data": {
      "text/html": [
       "<div>\n",
       "<table border=\"1\" class=\"dataframe\">\n",
       "  <thead>\n",
       "    <tr style=\"text-align: right;\">\n",
       "      <th></th>\n",
       "      <th>Engine</th>\n",
       "      <th>Fuel_Type</th>\n",
       "      <th>Kilometers_Driven</th>\n",
       "      <th>Location</th>\n",
       "      <th>Mileage</th>\n",
       "      <th>Name</th>\n",
       "      <th>Owner_Type</th>\n",
       "      <th>Power</th>\n",
       "      <th>Seats</th>\n",
       "      <th>Transmission</th>\n",
       "      <th>Year</th>\n",
       "      <th>brand</th>\n",
       "    </tr>\n",
       "  </thead>\n",
       "  <tbody>\n",
       "    <tr>\n",
       "      <th>0</th>\n",
       "      <td>148</td>\n",
       "      <td>0</td>\n",
       "      <td>11.184421</td>\n",
       "      <td>9</td>\n",
       "      <td>411</td>\n",
       "      <td>1310</td>\n",
       "      <td>0</td>\n",
       "      <td>271</td>\n",
       "      <td>4</td>\n",
       "      <td>1</td>\n",
       "      <td>13</td>\n",
       "      <td>19</td>\n",
       "    </tr>\n",
       "    <tr>\n",
       "      <th>1</th>\n",
       "      <td>40</td>\n",
       "      <td>1</td>\n",
       "      <td>10.621327</td>\n",
       "      <td>10</td>\n",
       "      <td>282</td>\n",
       "      <td>560</td>\n",
       "      <td>0</td>\n",
       "      <td>57</td>\n",
       "      <td>4</td>\n",
       "      <td>1</td>\n",
       "      <td>18</td>\n",
       "      <td>11</td>\n",
       "    </tr>\n",
       "    <tr>\n",
       "      <th>2</th>\n",
       "      <td>12</td>\n",
       "      <td>4</td>\n",
       "      <td>10.736397</td>\n",
       "      <td>2</td>\n",
       "      <td>239</td>\n",
       "      <td>529</td>\n",
       "      <td>0</td>\n",
       "      <td>357</td>\n",
       "      <td>4</td>\n",
       "      <td>1</td>\n",
       "      <td>14</td>\n",
       "      <td>10</td>\n",
       "    </tr>\n",
       "    <tr>\n",
       "      <th>3</th>\n",
       "      <td>14</td>\n",
       "      <td>1</td>\n",
       "      <td>11.373663</td>\n",
       "      <td>2</td>\n",
       "      <td>315</td>\n",
       "      <td>1160</td>\n",
       "      <td>0</td>\n",
       "      <td>359</td>\n",
       "      <td>6</td>\n",
       "      <td>1</td>\n",
       "      <td>15</td>\n",
       "      <td>19</td>\n",
       "    </tr>\n",
       "    <tr>\n",
       "      <th>4</th>\n",
       "      <td>60</td>\n",
       "      <td>1</td>\n",
       "      <td>10.613246</td>\n",
       "      <td>3</td>\n",
       "      <td>140</td>\n",
       "      <td>23</td>\n",
       "      <td>2</td>\n",
       "      <td>78</td>\n",
       "      <td>4</td>\n",
       "      <td>0</td>\n",
       "      <td>16</td>\n",
       "      <td>1</td>\n",
       "    </tr>\n",
       "  </tbody>\n",
       "</table>\n",
       "</div>"
      ],
      "text/plain": [
       "   Engine  Fuel_Type  Kilometers_Driven  Location  Mileage  Name  Owner_Type  \\\n",
       "0     148          0          11.184421         9      411  1310           0   \n",
       "1      40          1          10.621327        10      282   560           0   \n",
       "2      12          4          10.736397         2      239   529           0   \n",
       "3      14          1          11.373663         2      315  1160           0   \n",
       "4      60          1          10.613246         3      140    23           2   \n",
       "\n",
       "   Power  Seats  Transmission  Year  brand  \n",
       "0    271      4             1    13     19  \n",
       "1     57      4             1    18     11  \n",
       "2    357      4             1    14     10  \n",
       "3    359      6             1    15     19  \n",
       "4     78      4             0    16      1  "
      ]
     },
     "execution_count": 30,
     "metadata": {},
     "output_type": "execute_result"
    }
   ],
   "source": [
    "train_X=train_dataset.drop(['Price'],axis=1)\n",
    "train_X.head()"
   ]
  },
  {
   "cell_type": "code",
   "execution_count": 31,
   "metadata": {
    "collapsed": true
   },
   "outputs": [],
   "source": [
    "X = train_X[:6019]\n",
    "y = train_y[:6019]"
   ]
  },
  {
   "cell_type": "code",
   "execution_count": 37,
   "metadata": {},
   "outputs": [
    {
     "name": "stdout",
     "output_type": "stream",
     "text": [
      "$$Splitting X&y-success$$\n",
      "0.875969059269\n",
      "1.55114246451\n"
     ]
    }
   ],
   "source": [
    "from sklearn.model_selection import train_test_split\n",
    "X_train, X_test, y_train, y_test = train_test_split(X, y, test_size = 0.25)\n",
    "\n",
    "print('$$Splitting X&y-success$$')\n",
    "\n",
    "from sklearn.ensemble import RandomForestRegressor\n",
    "#regressor = RandomForestRegressor(n_estimators=115, random_state = 42, max_depth=60, min_samples_split=2)\n",
    "regressor = RandomForestRegressor(bootstrap=False,max_depth= 32,max_features ='sqrt', min_samples_leaf= 1,min_samples_split= 5,n_estimators= 106)\n",
    "regressor.fit(X_train,y_train)\n",
    "\n",
    "y_pred = regressor.predict(X_test)\n",
    "\n",
    "from sklearn.metrics import r2_score\n",
    "r2_scorepred = r2_score(y_test, y_pred, sample_weight=None)\n",
    "print(r2_scorepred)\n",
    "\n",
    "from sklearn.metrics import mean_absolute_error\n",
    "mean_absolute_errorpred = mean_absolute_error(y_test, y_pred, sample_weight=None)\n",
    "print(mean_absolute_errorpred)"
   ]
  },
  {
   "cell_type": "code",
   "execution_count": 35,
   "metadata": {
    "collapsed": true
   },
   "outputs": [],
   "source": [
    "test_X=train_X[6019:]"
   ]
  },
  {
   "cell_type": "code",
   "execution_count": null,
   "metadata": {},
   "outputs": [],
   "source": [
    "y_predreal = regressor.predict(test_X)\n",
    "\n",
    "y_predreal = pd.DataFrame(y_predreal)\n",
    "\n",
    "y_predreal.to_csv(\"yPred_GCV2.csv\")"
   ]
  },
  {
   "cell_type": "code",
   "execution_count": 39,
   "metadata": {},
   "outputs": [
    {
     "name": "stdout",
     "output_type": "stream",
     "text": [
      "{'bootstrap': [True, False],\n",
      " 'max_depth': [2,\n",
      "               5,\n",
      "               8,\n",
      "               11,\n",
      "               14,\n",
      "               17,\n",
      "               20,\n",
      "               23,\n",
      "               26,\n",
      "               29,\n",
      "               32,\n",
      "               35,\n",
      "               38,\n",
      "               41,\n",
      "               44,\n",
      "               47,\n",
      "               50,\n",
      "               53,\n",
      "               56,\n",
      "               60,\n",
      "               None],\n",
      " 'max_features': ['auto', 'sqrt'],\n",
      " 'min_samples_leaf': [1, 2, 3, 4],\n",
      " 'min_samples_split': [2, 3, 4, 6, 8, 5, 7, 9, 10],\n",
      " 'n_estimators': [80,\n",
      "                  83,\n",
      "                  86,\n",
      "                  89,\n",
      "                  92,\n",
      "                  95,\n",
      "                  98,\n",
      "                  102,\n",
      "                  105,\n",
      "                  108,\n",
      "                  111,\n",
      "                  114,\n",
      "                  117,\n",
      "                  121,\n",
      "                  124,\n",
      "                  127,\n",
      "                  130,\n",
      "                  133,\n",
      "                  136,\n",
      "                  140]}\n"
     ]
    }
   ],
   "source": [
    "from pprint import pprint\n",
    "from sklearn.model_selection import RandomizedSearchCV\n",
    "# Number of trees in random forest\n",
    "n_estimators = [int(x) for x in np.linspace(start = 80, stop = 140, num = 20)]\n",
    "# Number of features to consider at every split\n",
    "max_features = ['auto', 'sqrt']\n",
    "# Maximum number of levels in tree\n",
    "max_depth = [int(x) for x in np.linspace(2, 60, num = 20)]\n",
    "max_depth.append(None)\n",
    "# Minimum number of samples required to split a node\n",
    "min_samples_split = [2,3,4,6,8,5,7,9,10]\n",
    "# Minimum number of samples required at each leaf node\n",
    "min_samples_leaf = [1,2,3,4]\n",
    "# Method of selecting samples for training each tree\n",
    "bootstrap = [True, False]\n",
    "# Create the random grid\n",
    "random_grid = {'n_estimators': n_estimators,\n",
    "               'max_features': max_features,\n",
    "               'max_depth': max_depth,\n",
    "               'min_samples_split': min_samples_split,\n",
    "               'min_samples_leaf': min_samples_leaf,\n",
    "               'bootstrap': bootstrap}\n",
    "pprint(random_grid)"
   ]
  },
  {
   "cell_type": "code",
   "execution_count": null,
   "metadata": {},
   "outputs": [
    {
     "name": "stdout",
     "output_type": "stream",
     "text": [
      "Fitting 6 folds for each of 200 candidates, totalling 1200 fits\n"
     ]
    },
    {
     "name": "stderr",
     "output_type": "stream",
     "text": [
      "[Parallel(n_jobs=-1)]: Done  33 tasks      | elapsed:   26.9s\n",
      "[Parallel(n_jobs=-1)]: Done 154 tasks      | elapsed:  1.4min\n"
     ]
    }
   ],
   "source": [
    "#### Use the random grid to search for best hyperparameters\n",
    "#### First create the base model to tune\n",
    "rf = RandomForestRegressor()\n",
    "#### Random search of parameters, using 3 fold cross validation, \n",
    "#### search across 100 different combinations, and use all available cores\n",
    "rf_random = RandomizedSearchCV(estimator = rf, param_distributions = random_grid, n_iter = 200, cv = 6, verbose=2, random_state=0, n_jobs = -1)\n",
    "#### Fit the random search model\n",
    "rf_random.fit(X, y)"
   ]
  },
  {
   "cell_type": "code",
   "execution_count": null,
   "metadata": {},
   "outputs": [],
   "source": [
    "rf_random.best_params_"
   ]
  },
  {
   "cell_type": "markdown",
   "metadata": {},
   "source": [
    "https://towardsdatascience.com/hyperparameter-tuning-the-random-forest-in-python-using-scikit-learn-28d2aa77dd74"
   ]
  }
 ],
 "metadata": {
  "kernelspec": {
   "display_name": "Python 3",
   "language": "python",
   "name": "python3"
  },
  "language_info": {
   "codemirror_mode": {
    "name": "ipython",
    "version": 3
   },
   "file_extension": ".py",
   "mimetype": "text/x-python",
   "name": "python",
   "nbconvert_exporter": "python",
   "pygments_lexer": "ipython3",
   "version": "3.7.1"
  }
 },
 "nbformat": 4,
 "nbformat_minor": 2
}
